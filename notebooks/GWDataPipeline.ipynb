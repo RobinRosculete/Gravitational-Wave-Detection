{
 "cells": [
  {
   "cell_type": "markdown",
   "id": "23549531",
   "metadata": {
    "id": "23549531"
   },
   "source": [
    "# Gravitational Wave Data Pipeline"
   ]
  },
  {
   "cell_type": "code",
   "execution_count": 5,
   "id": "5883db4d",
   "metadata": {
    "id": "5883db4d",
    "scrolled": true
   },
   "outputs": [],
   "source": [
    "import numpy as np\n",
    "import pandas as pd\n",
    "from glob import glob"
   ]
  },
  {
   "cell_type": "code",
   "execution_count": 11,
   "id": "772fe66e",
   "metadata": {
    "id": "772fe66e"
   },
   "outputs": [],
   "source": [
    "#Training Data path\n",
    "traing_path =\"../data/train/*/*/*/*\"\n",
    "\n",
    "#Traigin Labels pat\n",
    "training_labels_path = \"../data/training_labels.csv\""
   ]
  },
  {
   "cell_type": "code",
   "execution_count": 12,
   "id": "32cb549f",
   "metadata": {
    "colab": {
     "base_uri": "https://localhost:8080/"
    },
    "executionInfo": {
     "elapsed": 1853,
     "status": "ok",
     "timestamp": 1679785598481,
     "user": {
      "displayName": "Rosculete Robin",
      "userId": "12689020454148123792"
     },
     "user_tz": 420
    },
    "id": "32cb549f",
    "outputId": "9a18e391-e8a6-4b74-f461-16cbaa5688a3"
   },
   "outputs": [
    {
     "data": {
      "text/plain": [
       "560000"
      ]
     },
     "execution_count": 12,
     "metadata": {},
     "output_type": "execute_result"
    }
   ],
   "source": [
    "#storing training data path list\n",
    "training_data_list = glob(traing_path)\n",
    "#Checking if all files are stored\n",
    "len(training_data_list)"
   ]
  },
  {
   "cell_type": "code",
   "execution_count": 15,
   "id": "5e985272",
   "metadata": {},
   "outputs": [
    {
     "data": {
      "text/html": [
       "<div>\n",
       "<style scoped>\n",
       "    .dataframe tbody tr th:only-of-type {\n",
       "        vertical-align: middle;\n",
       "    }\n",
       "\n",
       "    .dataframe tbody tr th {\n",
       "        vertical-align: top;\n",
       "    }\n",
       "\n",
       "    .dataframe thead th {\n",
       "        text-align: right;\n",
       "    }\n",
       "</style>\n",
       "<table border=\"1\" class=\"dataframe\">\n",
       "  <thead>\n",
       "    <tr style=\"text-align: right;\">\n",
       "      <th></th>\n",
       "      <th>id</th>\n",
       "      <th>target</th>\n",
       "    </tr>\n",
       "  </thead>\n",
       "  <tbody>\n",
       "    <tr>\n",
       "      <th>0</th>\n",
       "      <td>00000e74ad</td>\n",
       "      <td>1</td>\n",
       "    </tr>\n",
       "    <tr>\n",
       "      <th>1</th>\n",
       "      <td>00001f4945</td>\n",
       "      <td>0</td>\n",
       "    </tr>\n",
       "    <tr>\n",
       "      <th>2</th>\n",
       "      <td>0000661522</td>\n",
       "      <td>0</td>\n",
       "    </tr>\n",
       "    <tr>\n",
       "      <th>3</th>\n",
       "      <td>00007a006a</td>\n",
       "      <td>0</td>\n",
       "    </tr>\n",
       "    <tr>\n",
       "      <th>4</th>\n",
       "      <td>0000a38978</td>\n",
       "      <td>1</td>\n",
       "    </tr>\n",
       "    <tr>\n",
       "      <th>...</th>\n",
       "      <td>...</td>\n",
       "      <td>...</td>\n",
       "    </tr>\n",
       "    <tr>\n",
       "      <th>559995</th>\n",
       "      <td>ffff9a5645</td>\n",
       "      <td>1</td>\n",
       "    </tr>\n",
       "    <tr>\n",
       "      <th>559996</th>\n",
       "      <td>ffffab0c27</td>\n",
       "      <td>0</td>\n",
       "    </tr>\n",
       "    <tr>\n",
       "      <th>559997</th>\n",
       "      <td>ffffcf161a</td>\n",
       "      <td>1</td>\n",
       "    </tr>\n",
       "    <tr>\n",
       "      <th>559998</th>\n",
       "      <td>ffffd2c403</td>\n",
       "      <td>0</td>\n",
       "    </tr>\n",
       "    <tr>\n",
       "      <th>559999</th>\n",
       "      <td>fffff2180b</td>\n",
       "      <td>0</td>\n",
       "    </tr>\n",
       "  </tbody>\n",
       "</table>\n",
       "<p>560000 rows × 2 columns</p>\n",
       "</div>"
      ],
      "text/plain": [
       "                id  target\n",
       "0       00000e74ad       1\n",
       "1       00001f4945       0\n",
       "2       0000661522       0\n",
       "3       00007a006a       0\n",
       "4       0000a38978       1\n",
       "...            ...     ...\n",
       "559995  ffff9a5645       1\n",
       "559996  ffffab0c27       0\n",
       "559997  ffffcf161a       1\n",
       "559998  ffffd2c403       0\n",
       "559999  fffff2180b       0\n",
       "\n",
       "[560000 rows x 2 columns]"
      ]
     },
     "execution_count": 15,
     "metadata": {},
     "output_type": "execute_result"
    }
   ],
   "source": [
    "#Loading training labels into a pandas data frame\n",
    "training_labelels_df = pd.read_csv(training_labels_path)\n",
    "training_labelels_df "
   ]
  },
  {
   "cell_type": "code",
   "execution_count": 16,
   "id": "3b123fcf",
   "metadata": {
    "id": "3b123fcf"
   },
   "outputs": [],
   "source": [
    "#Mapping file_name -> label\n",
    "label_map = {}\n",
    "for i, row in training_labelels_df.iterrows():\n",
    "    label_map[row[0]] = row[1]"
   ]
  },
  {
   "cell_type": "code",
   "execution_count": 21,
   "id": "e335d707",
   "metadata": {
    "id": "e335d707"
   },
   "outputs": [
    {
     "data": {
      "text/plain": [
       "560000"
      ]
     },
     "execution_count": 21,
     "metadata": {},
     "output_type": "execute_result"
    }
   ],
   "source": [
    "len(label_map)"
   ]
  },
  {
   "cell_type": "code",
   "execution_count": null,
   "id": "IssKDLAehPS2",
   "metadata": {
    "id": "IssKDLAehPS2"
   },
   "outputs": [],
   "source": []
  }
 ],
 "metadata": {
  "accelerator": "TPU",
  "colab": {
   "machine_shape": "hm",
   "provenance": []
  },
  "gpuClass": "standard",
  "kernelspec": {
   "display_name": "Python 3 (ipykernel)",
   "language": "python",
   "name": "python3"
  },
  "language_info": {
   "codemirror_mode": {
    "name": "ipython",
    "version": 3
   },
   "file_extension": ".py",
   "mimetype": "text/x-python",
   "name": "python",
   "nbconvert_exporter": "python",
   "pygments_lexer": "ipython3",
   "version": "3.9.16"
  }
 },
 "nbformat": 4,
 "nbformat_minor": 5
}
