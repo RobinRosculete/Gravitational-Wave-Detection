{
 "cells": [
  {
   "cell_type": "markdown",
   "id": "23549531",
   "metadata": {},
   "source": [
    "# Gravitational Wave Data Pipeline"
   ]
  },
  {
   "cell_type": "code",
   "execution_count": 31,
   "id": "5883db4d",
   "metadata": {
    "scrolled": true
   },
   "outputs": [],
   "source": [
    "import tensorflow as tf\n",
    "import numpy as np\n",
    "import pandas as pd\n",
    "from glob import glob"
   ]
  },
  {
   "cell_type": "code",
   "execution_count": 23,
   "id": "772fe66e",
   "metadata": {},
   "outputs": [],
   "source": [
    "#Training Data path\n",
    "traing_path =\"../data/train/*/*/*/*\"\n",
    "\n",
    "#Traigin Labels pat\n",
    "training_labels_path = \"../data/training_labels.csv\""
   ]
  },
  {
   "cell_type": "code",
   "execution_count": 25,
   "id": "fdbc3492",
   "metadata": {},
   "outputs": [
    {
     "data": {
      "text/html": [
       "<div>\n",
       "<style scoped>\n",
       "    .dataframe tbody tr th:only-of-type {\n",
       "        vertical-align: middle;\n",
       "    }\n",
       "\n",
       "    .dataframe tbody tr th {\n",
       "        vertical-align: top;\n",
       "    }\n",
       "\n",
       "    .dataframe thead th {\n",
       "        text-align: right;\n",
       "    }\n",
       "</style>\n",
       "<table border=\"1\" class=\"dataframe\">\n",
       "  <thead>\n",
       "    <tr style=\"text-align: right;\">\n",
       "      <th></th>\n",
       "      <th>id</th>\n",
       "      <th>target</th>\n",
       "    </tr>\n",
       "  </thead>\n",
       "  <tbody>\n",
       "    <tr>\n",
       "      <th>0</th>\n",
       "      <td>00000e74ad</td>\n",
       "      <td>1</td>\n",
       "    </tr>\n",
       "    <tr>\n",
       "      <th>1</th>\n",
       "      <td>00001f4945</td>\n",
       "      <td>0</td>\n",
       "    </tr>\n",
       "    <tr>\n",
       "      <th>2</th>\n",
       "      <td>0000661522</td>\n",
       "      <td>0</td>\n",
       "    </tr>\n",
       "    <tr>\n",
       "      <th>3</th>\n",
       "      <td>00007a006a</td>\n",
       "      <td>0</td>\n",
       "    </tr>\n",
       "    <tr>\n",
       "      <th>4</th>\n",
       "      <td>0000a38978</td>\n",
       "      <td>1</td>\n",
       "    </tr>\n",
       "    <tr>\n",
       "      <th>...</th>\n",
       "      <td>...</td>\n",
       "      <td>...</td>\n",
       "    </tr>\n",
       "    <tr>\n",
       "      <th>559995</th>\n",
       "      <td>ffff9a5645</td>\n",
       "      <td>1</td>\n",
       "    </tr>\n",
       "    <tr>\n",
       "      <th>559996</th>\n",
       "      <td>ffffab0c27</td>\n",
       "      <td>0</td>\n",
       "    </tr>\n",
       "    <tr>\n",
       "      <th>559997</th>\n",
       "      <td>ffffcf161a</td>\n",
       "      <td>1</td>\n",
       "    </tr>\n",
       "    <tr>\n",
       "      <th>559998</th>\n",
       "      <td>ffffd2c403</td>\n",
       "      <td>0</td>\n",
       "    </tr>\n",
       "    <tr>\n",
       "      <th>559999</th>\n",
       "      <td>fffff2180b</td>\n",
       "      <td>0</td>\n",
       "    </tr>\n",
       "  </tbody>\n",
       "</table>\n",
       "<p>560000 rows × 2 columns</p>\n",
       "</div>"
      ],
      "text/plain": [
       "                id  target\n",
       "0       00000e74ad       1\n",
       "1       00001f4945       0\n",
       "2       0000661522       0\n",
       "3       00007a006a       0\n",
       "4       0000a38978       1\n",
       "...            ...     ...\n",
       "559995  ffff9a5645       1\n",
       "559996  ffffab0c27       0\n",
       "559997  ffffcf161a       1\n",
       "559998  ffffd2c403       0\n",
       "559999  fffff2180b       0\n",
       "\n",
       "[560000 rows x 2 columns]"
      ]
     },
     "execution_count": 25,
     "metadata": {},
     "output_type": "execute_result"
    }
   ],
   "source": [
    "#Creating a pandas data Frame for the training labels\n",
    "training_labelels_df =  pd.read_csv(training_labels_path)\n",
    "training_labelels_df"
   ]
  },
  {
   "cell_type": "code",
   "execution_count": 29,
   "id": "32cb549f",
   "metadata": {},
   "outputs": [
    {
     "data": {
      "text/plain": [
       "560000"
      ]
     },
     "execution_count": 29,
     "metadata": {},
     "output_type": "execute_result"
    }
   ],
   "source": [
    "#storing training data path list\n",
    "training_data_list = glob(traing_path)\n",
    "#Checking if all files ar\n",
    "len(training_data_list)"
   ]
  },
  {
   "cell_type": "code",
   "execution_count": null,
   "id": "3b123fcf",
   "metadata": {},
   "outputs": [],
   "source": []
  }
 ],
 "metadata": {
  "kernelspec": {
   "display_name": "Python 3 (ipykernel)",
   "language": "python",
   "name": "python3"
  },
  "language_info": {
   "codemirror_mode": {
    "name": "ipython",
    "version": 3
   },
   "file_extension": ".py",
   "mimetype": "text/x-python",
   "name": "python",
   "nbconvert_exporter": "python",
   "pygments_lexer": "ipython3",
   "version": "3.9.16"
  }
 },
 "nbformat": 4,
 "nbformat_minor": 5
}
